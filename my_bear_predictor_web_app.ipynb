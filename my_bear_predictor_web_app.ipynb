{
  "nbformat": 4,
  "nbformat_minor": 0,
  "metadata": {
    "colab": {
      "name": "my bear predictor web app.ipynb",
      "provenance": [],
      "authorship_tag": "ABX9TyOMTUyP7x/ozeGKF4W+GWc2",
      "include_colab_link": true
    },
    "kernelspec": {
      "name": "python3",
      "display_name": "Python 3"
    },
    "widgets": {
      "application/vnd.jupyter.widget-state+json": {
        "b8fde5e6106c42c8b77433cd4e4f1880": {
          "model_module": "@jupyter-widgets/controls",
          "model_name": "VBoxModel",
          "state": {
            "_view_name": "VBoxView",
            "_dom_classes": [],
            "_model_name": "VBoxModel",
            "_view_module": "@jupyter-widgets/controls",
            "_model_module_version": "1.5.0",
            "_view_count": null,
            "_view_module_version": "1.5.0",
            "box_style": "",
            "layout": "IPY_MODEL_12e63b88b90949339f8355264580f718",
            "_model_module": "@jupyter-widgets/controls",
            "children": [
              "IPY_MODEL_ee990f82184449428517e07435862d61",
              "IPY_MODEL_659080402ecc4f0e8625aa5127dbd327",
              "IPY_MODEL_331db0982fa941fb85c867b48c16b8ef",
              "IPY_MODEL_0ef07609b5344dbba4b682619fdb9d35"
            ]
          }
        },
        "12e63b88b90949339f8355264580f718": {
          "model_module": "@jupyter-widgets/base",
          "model_name": "LayoutModel",
          "state": {
            "_view_name": "LayoutView",
            "grid_template_rows": null,
            "right": null,
            "justify_content": null,
            "_view_module": "@jupyter-widgets/base",
            "overflow": null,
            "_model_module_version": "1.2.0",
            "_view_count": null,
            "flex_flow": null,
            "width": null,
            "min_width": null,
            "border": null,
            "align_items": null,
            "bottom": null,
            "_model_module": "@jupyter-widgets/base",
            "top": null,
            "grid_column": null,
            "overflow_y": null,
            "overflow_x": null,
            "grid_auto_flow": null,
            "grid_area": null,
            "grid_template_columns": null,
            "flex": null,
            "_model_name": "LayoutModel",
            "justify_items": null,
            "grid_row": null,
            "max_height": null,
            "align_content": null,
            "visibility": null,
            "align_self": null,
            "height": null,
            "min_height": null,
            "padding": null,
            "grid_auto_rows": null,
            "grid_gap": null,
            "max_width": null,
            "order": null,
            "_view_module_version": "1.2.0",
            "grid_template_areas": null,
            "object_position": null,
            "object_fit": null,
            "grid_auto_columns": null,
            "margin": null,
            "display": null,
            "left": null
          }
        },
        "ee990f82184449428517e07435862d61": {
          "model_module": "@jupyter-widgets/controls",
          "model_name": "LabelModel",
          "state": {
            "_view_name": "LabelView",
            "style": "IPY_MODEL_318a7ef6cda04fd692f81cb7af50124f",
            "_dom_classes": [],
            "description": "",
            "_model_name": "LabelModel",
            "placeholder": "​",
            "_view_module": "@jupyter-widgets/controls",
            "_model_module_version": "1.5.0",
            "value": "Select your bear!",
            "_view_count": null,
            "_view_module_version": "1.5.0",
            "description_tooltip": null,
            "_model_module": "@jupyter-widgets/controls",
            "layout": "IPY_MODEL_4b248fb829c14c6fbf0c76767974c17f"
          }
        },
        "659080402ecc4f0e8625aa5127dbd327": {
          "model_module": "@jupyter-widgets/controls",
          "model_name": "FileUploadModel",
          "state": {
            "_view_name": "FileUploadView",
            "_counter": 1,
            "style": "IPY_MODEL_07bb770ac83f45cd9ff0479b30ae09aa",
            "_dom_classes": [],
            "description": "Upload",
            "multiple": false,
            "_model_name": "FileUploadModel",
            "data": [
              null
            ],
            "button_style": "",
            "_view_module": "@jupyter-widgets/controls",
            "_model_module_version": "1.5.0",
            "accept": "",
            "_view_count": null,
            "disabled": false,
            "_view_module_version": "1.5.0",
            "error": "",
            "description_tooltip": null,
            "metadata": [
              {
                "name": "grizzly.jpg",
                "type": "image/jpeg",
                "size": 320188,
                "lastModified": 1609714639832
              }
            ],
            "_model_module": "@jupyter-widgets/controls",
            "layout": "IPY_MODEL_2d70d43bb24e42199ca09e32775b585e",
            "icon": "upload"
          }
        },
        "331db0982fa941fb85c867b48c16b8ef": {
          "model_module": "@jupyter-widgets/output",
          "model_name": "OutputModel",
          "state": {
            "_view_name": "OutputView",
            "msg_id": "",
            "_dom_classes": [],
            "_model_name": "OutputModel",
            "outputs": [
              {
                "output_type": "display_data",
                "metadata": {
                  "tags": []
                },
                "image/png": "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\n",
                "text/plain": "<PIL.Image.Image image mode=RGB size=128x85 at 0x7F5F3347C2E8>"
              }
            ],
            "_view_module": "@jupyter-widgets/output",
            "_model_module_version": "1.0.0",
            "_view_count": null,
            "_view_module_version": "1.0.0",
            "layout": "IPY_MODEL_8b8ffdc00d3f4fc3bdcf13143fafcfad",
            "_model_module": "@jupyter-widgets/output"
          }
        },
        "0ef07609b5344dbba4b682619fdb9d35": {
          "model_module": "@jupyter-widgets/controls",
          "model_name": "LabelModel",
          "state": {
            "_view_name": "LabelView",
            "style": "IPY_MODEL_63f9b263a91546059dafdbe3199b2732",
            "_dom_classes": [],
            "description": "",
            "_model_name": "LabelModel",
            "placeholder": "​",
            "_view_module": "@jupyter-widgets/controls",
            "_model_module_version": "1.5.0",
            "value": "Prediction: grizzly; Probability: 0.9999",
            "_view_count": null,
            "_view_module_version": "1.5.0",
            "description_tooltip": null,
            "_model_module": "@jupyter-widgets/controls",
            "layout": "IPY_MODEL_4cbcf33bc99c468bb981e26cf7289b49"
          }
        },
        "318a7ef6cda04fd692f81cb7af50124f": {
          "model_module": "@jupyter-widgets/controls",
          "model_name": "DescriptionStyleModel",
          "state": {
            "_view_name": "StyleView",
            "_model_name": "DescriptionStyleModel",
            "description_width": "",
            "_view_module": "@jupyter-widgets/base",
            "_model_module_version": "1.5.0",
            "_view_count": null,
            "_view_module_version": "1.2.0",
            "_model_module": "@jupyter-widgets/controls"
          }
        },
        "4b248fb829c14c6fbf0c76767974c17f": {
          "model_module": "@jupyter-widgets/base",
          "model_name": "LayoutModel",
          "state": {
            "_view_name": "LayoutView",
            "grid_template_rows": null,
            "right": null,
            "justify_content": null,
            "_view_module": "@jupyter-widgets/base",
            "overflow": null,
            "_model_module_version": "1.2.0",
            "_view_count": null,
            "flex_flow": null,
            "width": null,
            "min_width": null,
            "border": null,
            "align_items": null,
            "bottom": null,
            "_model_module": "@jupyter-widgets/base",
            "top": null,
            "grid_column": null,
            "overflow_y": null,
            "overflow_x": null,
            "grid_auto_flow": null,
            "grid_area": null,
            "grid_template_columns": null,
            "flex": null,
            "_model_name": "LayoutModel",
            "justify_items": null,
            "grid_row": null,
            "max_height": null,
            "align_content": null,
            "visibility": null,
            "align_self": null,
            "height": null,
            "min_height": null,
            "padding": null,
            "grid_auto_rows": null,
            "grid_gap": null,
            "max_width": null,
            "order": null,
            "_view_module_version": "1.2.0",
            "grid_template_areas": null,
            "object_position": null,
            "object_fit": null,
            "grid_auto_columns": null,
            "margin": null,
            "display": null,
            "left": null
          }
        },
        "07bb770ac83f45cd9ff0479b30ae09aa": {
          "model_module": "@jupyter-widgets/controls",
          "model_name": "ButtonStyleModel",
          "state": {
            "_view_name": "StyleView",
            "_model_name": "ButtonStyleModel",
            "_view_module": "@jupyter-widgets/base",
            "_model_module_version": "1.5.0",
            "_view_count": null,
            "button_color": null,
            "font_weight": "",
            "_view_module_version": "1.2.0",
            "_model_module": "@jupyter-widgets/controls"
          }
        },
        "2d70d43bb24e42199ca09e32775b585e": {
          "model_module": "@jupyter-widgets/base",
          "model_name": "LayoutModel",
          "state": {
            "_view_name": "LayoutView",
            "grid_template_rows": null,
            "right": null,
            "justify_content": null,
            "_view_module": "@jupyter-widgets/base",
            "overflow": null,
            "_model_module_version": "1.2.0",
            "_view_count": null,
            "flex_flow": null,
            "width": null,
            "min_width": null,
            "border": null,
            "align_items": null,
            "bottom": null,
            "_model_module": "@jupyter-widgets/base",
            "top": null,
            "grid_column": null,
            "overflow_y": null,
            "overflow_x": null,
            "grid_auto_flow": null,
            "grid_area": null,
            "grid_template_columns": null,
            "flex": null,
            "_model_name": "LayoutModel",
            "justify_items": null,
            "grid_row": null,
            "max_height": null,
            "align_content": null,
            "visibility": null,
            "align_self": null,
            "height": null,
            "min_height": null,
            "padding": null,
            "grid_auto_rows": null,
            "grid_gap": null,
            "max_width": null,
            "order": null,
            "_view_module_version": "1.2.0",
            "grid_template_areas": null,
            "object_position": null,
            "object_fit": null,
            "grid_auto_columns": null,
            "margin": null,
            "display": null,
            "left": null
          }
        },
        "63f9b263a91546059dafdbe3199b2732": {
          "model_module": "@jupyter-widgets/controls",
          "model_name": "DescriptionStyleModel",
          "state": {
            "_view_name": "StyleView",
            "_model_name": "DescriptionStyleModel",
            "description_width": "",
            "_view_module": "@jupyter-widgets/base",
            "_model_module_version": "1.5.0",
            "_view_count": null,
            "_view_module_version": "1.2.0",
            "_model_module": "@jupyter-widgets/controls"
          }
        },
        "4cbcf33bc99c468bb981e26cf7289b49": {
          "model_module": "@jupyter-widgets/base",
          "model_name": "LayoutModel",
          "state": {
            "_view_name": "LayoutView",
            "grid_template_rows": null,
            "right": null,
            "justify_content": null,
            "_view_module": "@jupyter-widgets/base",
            "overflow": null,
            "_model_module_version": "1.2.0",
            "_view_count": null,
            "flex_flow": null,
            "width": null,
            "min_width": null,
            "border": null,
            "align_items": null,
            "bottom": null,
            "_model_module": "@jupyter-widgets/base",
            "top": null,
            "grid_column": null,
            "overflow_y": null,
            "overflow_x": null,
            "grid_auto_flow": null,
            "grid_area": null,
            "grid_template_columns": null,
            "flex": null,
            "_model_name": "LayoutModel",
            "justify_items": null,
            "grid_row": null,
            "max_height": null,
            "align_content": null,
            "visibility": null,
            "align_self": null,
            "height": null,
            "min_height": null,
            "padding": null,
            "grid_auto_rows": null,
            "grid_gap": null,
            "max_width": null,
            "order": null,
            "_view_module_version": "1.2.0",
            "grid_template_areas": null,
            "object_position": null,
            "object_fit": null,
            "grid_auto_columns": null,
            "margin": null,
            "display": null,
            "left": null
          }
        },
        "8b8ffdc00d3f4fc3bdcf13143fafcfad": {
          "model_module": "@jupyter-widgets/base",
          "model_name": "LayoutModel",
          "state": {
            "_view_name": "LayoutView",
            "grid_template_rows": null,
            "right": null,
            "justify_content": null,
            "_view_module": "@jupyter-widgets/base",
            "overflow": null,
            "_model_module_version": "1.2.0",
            "_view_count": null,
            "flex_flow": null,
            "width": null,
            "min_width": null,
            "border": null,
            "align_items": null,
            "bottom": null,
            "_model_module": "@jupyter-widgets/base",
            "top": null,
            "grid_column": null,
            "overflow_y": null,
            "overflow_x": null,
            "grid_auto_flow": null,
            "grid_area": null,
            "grid_template_columns": null,
            "flex": null,
            "_model_name": "LayoutModel",
            "justify_items": null,
            "grid_row": null,
            "max_height": null,
            "align_content": null,
            "visibility": null,
            "align_self": null,
            "height": null,
            "min_height": null,
            "padding": null,
            "grid_auto_rows": null,
            "grid_gap": null,
            "max_width": null,
            "order": null,
            "_view_module_version": "1.2.0",
            "grid_template_areas": null,
            "object_position": null,
            "object_fit": null,
            "grid_auto_columns": null,
            "margin": null,
            "display": null,
            "left": null
          }
        }
      }
    }
  },
  "cells": [
    {
      "cell_type": "markdown",
      "metadata": {
        "id": "view-in-github",
        "colab_type": "text"
      },
      "source": [
        "<a href=\"https://colab.research.google.com/github/brubaboy/model-notebooks/blob/main/my_bear_predictor_web_app.ipynb\" target=\"_parent\"><img src=\"https://colab.research.google.com/assets/colab-badge.svg\" alt=\"Open In Colab\"/></a>"
      ]
    },
    {
      "cell_type": "code",
      "metadata": {
        "colab": {
          "base_uri": "https://localhost:8080/"
        },
        "id": "oeRSEJsCayCV",
        "outputId": "0997032a-802e-47e7-f98a-f43577a882ba"
      },
      "source": [
        "!pip install -Uqq fastbook\r\n",
        "import fastbook\r\n",
        "fastbook.setup_book()"
      ],
      "execution_count": null,
      "outputs": [
        {
          "output_type": "stream",
          "text": [
            "\u001b[K     |████████████████████████████████| 727kB 6.8MB/s \n",
            "\u001b[K     |████████████████████████████████| 194kB 23.6MB/s \n",
            "\u001b[K     |████████████████████████████████| 51kB 6.7MB/s \n",
            "\u001b[K     |████████████████████████████████| 1.1MB 24.2MB/s \n",
            "\u001b[K     |████████████████████████████████| 61kB 7.2MB/s \n",
            "\u001b[?25hMounted at /content/gdrive\n"
          ],
          "name": "stdout"
        }
      ]
    },
    {
      "cell_type": "code",
      "metadata": {
        "id": "J-s9QNOwbEfp"
      },
      "source": [
        "from fastbook import *\r\n",
        "from fastai.vision.widgets import *"
      ],
      "execution_count": null,
      "outputs": []
    },
    {
      "cell_type": "code",
      "metadata": {
        "id": "l1UtWqSobgNH"
      },
      "source": [
        "path = Path('/content/gdrive/MyDrive/models')\r\n",
        "learn_inf = load_learner(path/'export.pkl', cpu=True)\r\n",
        "btn_upload = widgets.FileUpload()\r\n",
        "out_pl = widgets.Output()\r\n",
        "lbl_pred = widgets.Label()"
      ],
      "execution_count": null,
      "outputs": []
    },
    {
      "cell_type": "code",
      "metadata": {
        "id": "CIWmD2h4dhY9"
      },
      "source": [
        "def on_data_change(change):\r\n",
        "    lbl_pred.value = ''\r\n",
        "    img = PILImage.create(btn_upload.data[-1])\r\n",
        "    out_pl.clear_output()\r\n",
        "    with out_pl: display(img.to_thumb(128,128))\r\n",
        "    pred,pred_idx,probs = learn_inf.predict(img)\r\n",
        "    lbl_pred.value = f'Prediction: {pred}; Probability: {probs[pred_idx]:.04f}'"
      ],
      "execution_count": null,
      "outputs": []
    },
    {
      "cell_type": "code",
      "metadata": {
        "id": "I5lpBDGhdn8O"
      },
      "source": [
        "btn_upload.observe(on_data_change, names=['data'])"
      ],
      "execution_count": null,
      "outputs": []
    },
    {
      "cell_type": "code",
      "metadata": {
        "colab": {
          "base_uri": "https://localhost:8080/",
          "height": 198,
          "referenced_widgets": [
            "b8fde5e6106c42c8b77433cd4e4f1880",
            "12e63b88b90949339f8355264580f718",
            "ee990f82184449428517e07435862d61",
            "659080402ecc4f0e8625aa5127dbd327",
            "331db0982fa941fb85c867b48c16b8ef",
            "0ef07609b5344dbba4b682619fdb9d35",
            "318a7ef6cda04fd692f81cb7af50124f",
            "4b248fb829c14c6fbf0c76767974c17f",
            "07bb770ac83f45cd9ff0479b30ae09aa",
            "2d70d43bb24e42199ca09e32775b585e",
            "63f9b263a91546059dafdbe3199b2732",
            "4cbcf33bc99c468bb981e26cf7289b49",
            "8b8ffdc00d3f4fc3bdcf13143fafcfad"
          ]
        },
        "id": "P_TBEXKydsxa",
        "outputId": "14fedf91-7986-4bbd-ac72-5d63990c276d"
      },
      "source": [
        "display(VBox([widgets.Label('Select your bear!'), btn_upload, out_pl, lbl_pred]))"
      ],
      "execution_count": null,
      "outputs": [
        {
          "output_type": "display_data",
          "data": {
            "application/vnd.jupyter.widget-view+json": {
              "model_id": "b8fde5e6106c42c8b77433cd4e4f1880",
              "version_minor": 0,
              "version_major": 2
            },
            "text/plain": [
              "VBox(children=(Label(value='Select your bear!'), FileUpload(value={}, description='Upload'), Output(), Label(v…"
            ]
          },
          "metadata": {
            "tags": []
          }
        },
        {
          "output_type": "display_data",
          "data": {
            "text/html": [
              ""
            ],
            "text/plain": [
              "<IPython.core.display.HTML object>"
            ]
          },
          "metadata": {
            "tags": []
          }
        }
      ]
    }
  ]
}